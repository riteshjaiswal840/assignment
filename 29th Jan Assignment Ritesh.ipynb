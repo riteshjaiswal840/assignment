{
 "cells": [
  {
   "cell_type": "code",
   "execution_count": 1,
   "id": "9f856071-7035-427a-852f-b3b9582730f5",
   "metadata": {},
   "outputs": [],
   "source": [
    "q1 = \"who developed python programmin language\""
   ]
  },
  {
   "cell_type": "code",
   "execution_count": 2,
   "id": "48526de0-24ea-4063-8a09-c6857e7e6ed2",
   "metadata": {},
   "outputs": [],
   "source": [
    "a1 = \"Guido Van Rossum\""
   ]
  },
  {
   "cell_type": "code",
   "execution_count": 3,
   "id": "cab7605f-2747-4cbe-92a2-2f68241eb57c",
   "metadata": {},
   "outputs": [],
   "source": [
    "q2 = \"which type of programming does python support?\""
   ]
  },
  {
   "cell_type": "code",
   "execution_count": 4,
   "id": "461711b2-e473-425b-bd1d-c5ed1976656e",
   "metadata": {},
   "outputs": [],
   "source": [
    "a2 = \"Object oriented , Structured Oriented , function programming\""
   ]
  },
  {
   "cell_type": "code",
   "execution_count": 5,
   "id": "786ae919-726d-4611-9594-a85e9b80c5d4",
   "metadata": {},
   "outputs": [],
   "source": [
    "q3 =\"Is Python Case Sensitive While Dealing with Identifiers?\""
   ]
  },
  {
   "cell_type": "code",
   "execution_count": 6,
   "id": "9ee25e52-0831-417d-87eb-b85089763174",
   "metadata": {},
   "outputs": [],
   "source": [
    "a3= \"Yes, Python is a case-sensitive language\""
   ]
  },
  {
   "cell_type": "code",
   "execution_count": 7,
   "id": "61e78945-eaad-4402-96a4-2d194029cc4e",
   "metadata": {},
   "outputs": [],
   "source": [
    "q4 = \"what is the correct extension of the python file?\""
   ]
  },
  {
   "cell_type": "code",
   "execution_count": 8,
   "id": "45fbe1f4-3dce-4227-9fa7-26174e3c187c",
   "metadata": {},
   "outputs": [],
   "source": [
    "a4 = \" .py extension contain the Python source code\""
   ]
  },
  {
   "cell_type": "code",
   "execution_count": 9,
   "id": "2d5a5df2-d591-4b86-8cf2-6d5cae95fe7f",
   "metadata": {},
   "outputs": [],
   "source": [
    "q5 = \"is python code compiled or interpreted\""
   ]
  },
  {
   "cell_type": "code",
   "execution_count": 10,
   "id": "25a90ac7-267f-4ecf-8672-ab9b6668b326",
   "metadata": {},
   "outputs": [],
   "source": [
    "a5 = \"Interpreted language\""
   ]
  },
  {
   "cell_type": "code",
   "execution_count": 11,
   "id": "1fd7b515-6287-4864-a3e0-3a911ea1e50a",
   "metadata": {},
   "outputs": [],
   "source": [
    "q6 = \"name of few blocks of code used to define in python language\""
   ]
  },
  {
   "cell_type": "code",
   "execution_count": 12,
   "id": "31b384ee-dafd-4af6-b011-9de3cb127703",
   "metadata": {},
   "outputs": [],
   "source": [
    "a6 = \" a module, a function body, and a class definition\""
   ]
  },
  {
   "cell_type": "code",
   "execution_count": 13,
   "id": "df0c0b64-7b8b-427d-b2fe-e2579e5bee02",
   "metadata": {},
   "outputs": [],
   "source": [
    "q7 = \"state a character used to give single line comment in python\""
   ]
  },
  {
   "cell_type": "code",
   "execution_count": 1,
   "id": "a6d3f013-026a-46e3-97df-cadcf57ab90a",
   "metadata": {},
   "outputs": [],
   "source": [
    "a7= \" # \""
   ]
  },
  {
   "cell_type": "code",
   "execution_count": 2,
   "id": "34e17c4d-e009-4294-9d6e-29f327636539",
   "metadata": {},
   "outputs": [],
   "source": [
    "q8 = \" Mention functions can help us to find the version of python that we are currently working on\""
   ]
  },
  {
   "cell_type": "code",
   "execution_count": 3,
   "id": "8ed3da0c-8c8b-4d51-a8f1-40caa6dba1e1",
   "metadata": {},
   "outputs": [],
   "source": [
    "a8 = \"sys. version\""
   ]
  },
  {
   "cell_type": "code",
   "execution_count": 5,
   "id": "95c68727-2d9a-473b-ac14-2b165d782576",
   "metadata": {},
   "outputs": [],
   "source": [
    "q9 = \"python support the creation of anonymous funtions at runtime,using a contruct called\" "
   ]
  },
  {
   "cell_type": "code",
   "execution_count": 6,
   "id": "fee242ae-0bec-4744-a61d-b63bf1706707",
   "metadata": {},
   "outputs": [],
   "source": [
    "a9 = \"lambda\""
   ]
  },
  {
   "cell_type": "code",
   "execution_count": 7,
   "id": "ac6eb1f3-b60e-4bc2-aee9-4a1496bc7c75",
   "metadata": {},
   "outputs": [],
   "source": [
    "q10= \"what does pip stand for python?\""
   ]
  },
  {
   "cell_type": "code",
   "execution_count": 8,
   "id": "5f96fadf-b8a1-4129-ab90-068ddffdd08a",
   "metadata": {},
   "outputs": [],
   "source": [
    "a10 = \"preferred installer program\""
   ]
  },
  {
   "cell_type": "code",
   "execution_count": 1,
   "id": "b722aa6d-f377-4bfc-a0bd-2d60ac580d26",
   "metadata": {},
   "outputs": [],
   "source": [
    "q11 = \"mention a few built in function in python?\""
   ]
  },
  {
   "cell_type": "code",
   "execution_count": 2,
   "id": "eb4f54cb-ea19-4fab-a053-a0a2266bf262",
   "metadata": {},
   "outputs": [],
   "source": [
    "a11 = \"float(),type(),int(),help(),input(),format()\""
   ]
  },
  {
   "cell_type": "code",
   "execution_count": 3,
   "id": "47f58317-c985-4135-85ef-b8bbb39db5a7",
   "metadata": {},
   "outputs": [],
   "source": [
    "q12= \"what is the maximum possible lenght of identifier in python?\""
   ]
  },
  {
   "cell_type": "code",
   "execution_count": 4,
   "id": "50db008b-e363-4321-b6d1-7e33498ea151",
   "metadata": {},
   "outputs": [],
   "source": [
    "a12 = \"79 character\""
   ]
  },
  {
   "cell_type": "code",
   "execution_count": 5,
   "id": "054fe75e-7bff-4335-b465-8e39818a36fa",
   "metadata": {},
   "outputs": [],
   "source": [
    "q13 = \"what are the benefits of using python?\""
   ]
  },
  {
   "cell_type": "code",
   "execution_count": 7,
   "id": "d7aeafca-c317-4a64-b39f-1001fee3fabb",
   "metadata": {},
   "outputs": [],
   "source": [
    "a13 = \"deep learning,data science,machine learning, statistic , advance analytics,predictive analytics\""
   ]
  },
  {
   "cell_type": "code",
   "execution_count": 8,
   "id": "4ed15ca0-6bfc-4c71-ac9e-198e5e20325b",
   "metadata": {},
   "outputs": [],
   "source": [
    "q14 = \"how memory is managed in python?\""
   ]
  },
  {
   "cell_type": "code",
   "execution_count": 9,
   "id": "3d2b0d6c-04ea-48bf-8944-382faabe26c5",
   "metadata": {},
   "outputs": [],
   "source": [
    "a14 = \"the management of the Python heap is performed by the interpreter itself and that the user has no control over it, even if they regularly manipulate object pointers to memory blocks inside that heap\" "
   ]
  },
  {
   "cell_type": "code",
   "execution_count": 10,
   "id": "59e8efc7-8efc-4179-91a2-ad2f746ff862",
   "metadata": {},
   "outputs": [],
   "source": [
    "q15 = \"how to install python on windows and set path variables?\""
   ]
  },
  {
   "cell_type": "code",
   "execution_count": 13,
   "id": "a8be3acf-74b1-4357-8658-45056fc0c100",
   "metadata": {},
   "outputs": [],
   "source": [
    "a15= \"# Right-clicking This PC and going to Properties.\"\n",
    "\n",
    "#Clicking on the Advanced system settings in the menu on the left.\n",
    "\n",
    "#Clicking on the Environment Variables button o​n the bottom right.\n",
    "\n",
    "#In the System variables section, selecting the Path variable and clicking on Edit. The next screen will show all the directories that are currently a part of the PATH variable.\n",
    "\n",
    "#Clicking on New and entering Python’s install directory.\n",
    "\n",
    "#Python can now be used directly from the command prompt without having to write its location. Try executing the command python --version; it will output the version of Python installed on your system.\""
   ]
  },
  {
   "cell_type": "code",
   "execution_count": 14,
   "id": "8a34986c-03a5-41a2-8154-d7632dc34715",
   "metadata": {},
   "outputs": [],
   "source": [
    "q16 = \"is indentation required in python?\""
   ]
  },
  {
   "cell_type": "code",
   "execution_count": 15,
   "id": "32dc152a-000f-48e6-ac2a-4690f8a6a94d",
   "metadata": {},
   "outputs": [],
   "source": [
    "a16 = \" indentation in Python is very important. Python uses indentation to indicate a block of code.\""
   ]
  },
  {
   "cell_type": "code",
   "execution_count": null,
   "id": "3323a473-98c6-4034-a2da-ae093cadc852",
   "metadata": {},
   "outputs": [],
   "source": []
  }
 ],
 "metadata": {
  "kernelspec": {
   "display_name": "Python 3 (ipykernel)",
   "language": "python",
   "name": "python3"
  },
  "language_info": {
   "codemirror_mode": {
    "name": "ipython",
    "version": 3
   },
   "file_extension": ".py",
   "mimetype": "text/x-python",
   "name": "python",
   "nbconvert_exporter": "python",
   "pygments_lexer": "ipython3",
   "version": "3.10.8"
  }
 },
 "nbformat": 4,
 "nbformat_minor": 5
}
